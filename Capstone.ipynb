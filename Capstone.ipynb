{
  "nbformat": 4,
  "nbformat_minor": 0,
  "metadata": {
    "colab": {
      "name": "Untitled3.ipynb",
      "provenance": [],
      "collapsed_sections": []
    },
    "kernelspec": {
      "name": "python3",
      "display_name": "Python 3"
    }
  },
  "cells": [
    {
      "cell_type": "markdown",
      "metadata": {
        "id": "U-QyyCZiYPSn",
        "colab_type": "text"
      },
      "source": [
        "# This notebook will be mainly used for the capstone project."
      ]
    },
    {
      "cell_type": "code",
      "metadata": {
        "id": "PPrexzdCYNm5",
        "colab_type": "code",
        "colab": {}
      },
      "source": [
        "#This librarys is to work with matrices\n",
        "import pandas as pd \n",
        "# This librarys is to work with vectors\n",
        "import numpy as np"
      ],
      "execution_count": null,
      "outputs": []
    },
    {
      "cell_type": "code",
      "metadata": {
        "id": "Mn2R4d7cYdQM",
        "colab_type": "code",
        "colab": {}
      },
      "source": [
        "print('Hello Capstone Project Course!')"
      ],
      "execution_count": null,
      "outputs": []
    }
  ]
}